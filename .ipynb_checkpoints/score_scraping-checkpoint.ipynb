{
 "cells": [
  {
   "cell_type": "markdown",
   "metadata": {
    "colab_type": "text",
    "id": "uNLQEbd4mwJQ"
   },
   "source": [
    "インポート"
   ]
  },
  {
   "cell_type": "code",
   "execution_count": 1,
   "metadata": {
    "colab": {},
    "colab_type": "code",
    "id": "kZ4a-nyHmqgK"
   },
   "outputs": [],
   "source": [
    "import re\n",
    "import csv\n",
    "import sys\n",
    "import time\n",
    "import requests\n",
    "import pandas as pd\n",
    "from bs4 import BeautifulSoup"
   ]
  },
  {
   "cell_type": "markdown",
   "metadata": {
    "colab_type": "text",
    "id": "ULX0z0kPfAn_"
   },
   "source": [
    "変数に値を入力"
   ]
  },
  {
   "cell_type": "code",
   "execution_count": 2,
   "metadata": {
    "colab": {},
    "colab_type": "code",
    "id": "cJeuq9LAe_DV"
   },
   "outputs": [],
   "source": [
    "domain = 'https://enc.piano.or.jp/musics/'  # 取得したいurl（数字は除く）\n",
    "first_number = 1   # 取得する最初の数字\n",
    "last_number = 100  # 取得する最後の数字\n",
    "file_name = 'scores_100.csv'  # ファイルの名称"
   ]
  },
  {
   "cell_type": "markdown",
   "metadata": {
    "colab_type": "text",
    "id": "i8clnM-wfLil"
   },
   "source": [
    "実行"
   ]
  },
  {
   "cell_type": "code",
   "execution_count": null,
   "metadata": {
    "colab": {
     "base_uri": "https://localhost:8080/",
     "height": 34
    },
    "colab_type": "code",
    "id": "jKVW4MCrewsT",
    "outputId": "26643fc5-a973-4703-b5c8-8e7aed7b3b8e"
   },
   "outputs": [],
   "source": [
    "url_list = []\n",
    "number_list = list(range(first_number, last_number+1))\n",
    "\n",
    "f = open(file_name, 'w')  # ファイルの新規作成\n",
    "\n",
    "for i in number_list:\n",
    "\n",
    "    url = domain + str(i)\n",
    "\n",
    "    # クローリング\n",
    "    r    = requests.get(url)\n",
    "    soup = BeautifulSoup(r.content, 'html.parser')\n",
    "\n",
    "    if soup.find(class_='j'): res1 = soup.find(class_='j')\n",
    "    else: continue  # ページが存在しなかった場合\n",
    "    res1 = res1.find('p').text\n",
    "    res2 = soup.find(class_='grid col-9_sm-12').find_all(class_='col-12')\n",
    "    res2 = res2[1].find('div').text\n",
    "\n",
    "    # テキストの整理\n",
    "    score = []\n",
    "\n",
    "    score.append(re.findall('作曲年：(.*)年', res2)[0]) if re.findall('作曲年：(.*)年', res2) else score.append(None)\n",
    "    score.append(re.findall('楽器編成：(.*)\\n', res2)[0][0:-1]) if re.findall('楽器編成：(.*)\\n', res2) else score.append(None)\n",
    "    score.append(re.findall('ジャンル：(.*)\\n', res2)[0]) if re.findall('ジャンル：(.*)\\n', res2) else score.append(None)\n",
    "    score.append(re.findall('総演奏時間：(.*)\\n', res2)[0]) if re.findall('総演奏時間：(.*)\\n', res2) else score.append(None)\n",
    "\n",
    "    # ファイルへ書き込み\n",
    "    csv.writer(f).writerow(score)\n",
    "    \n",
    "    # 進捗状況を表示\n",
    "    sys.stdout.write(f'\\rデータの作成:  {i} / {last_number+1 - first_number}')\n",
    "    \n",
    "    # 待機\n",
    "    time.sleep(100)\n",
    "\n",
    "f.close()"
   ]
  },
  {
   "cell_type": "code",
   "execution_count": null,
   "metadata": {
    "colab": {},
    "colab_type": "code",
    "id": "QslgLX5k-7GM"
   },
   "outputs": [],
   "source": [
    "csv = pd.read_csv(file_name)\n",
    "csv.to_csv('test.csv', header=False, index=False, encoding=\"shift-jis\")"
   ]
  }
 ],
 "metadata": {
  "colab": {
   "collapsed_sections": [],
   "name": "score_scraping.ipynb",
   "provenance": []
  },
  "kernelspec": {
   "display_name": "Python 3",
   "language": "python",
   "name": "python3"
  },
  "language_info": {
   "codemirror_mode": {
    "name": "ipython",
    "version": 3
   },
   "file_extension": ".py",
   "mimetype": "text/x-python",
   "name": "python",
   "nbconvert_exporter": "python",
   "pygments_lexer": "ipython3",
   "version": "3.7.4"
  }
 },
 "nbformat": 4,
 "nbformat_minor": 1
}
